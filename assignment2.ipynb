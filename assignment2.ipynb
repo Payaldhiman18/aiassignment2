{
 "cells": [
  {
   "cell_type": "code",
   "execution_count": 2,
   "id": "42da95ca",
   "metadata": {},
   "outputs": [],
   "source": [
    "import numpy as np\n",
    "import pandas as pd\n",
    "from sklearn.linear_model import LogisticRegression\n",
    "from sklearn.svm import SVC\n",
    "from sklearn.tree import DecisionTreeClassifier\n",
    "from sklearn.model_selection import train_test_split\n",
    "from sklearn.preprocessing import StandardScaler"
   ]
  },
  {
   "cell_type": "code",
   "execution_count": 4,
   "id": "bf995aa7",
   "metadata": {},
   "outputs": [
    {
     "name": "stderr",
     "output_type": "stream",
     "text": [
      "C:\\Users\\payal\\AppData\\Local\\Temp\\ipykernel_9868\\1246829193.py:8: SettingWithCopyWarning: \n",
      "A value is trying to be set on a copy of a slice from a DataFrame.\n",
      "Try using .loc[row_indexer,col_indexer] = value instead\n",
      "\n",
      "See the caveats in the documentation: https://pandas.pydata.org/pandas-docs/stable/user_guide/indexing.html#returning-a-view-versus-a-copy\n",
      "  X['Sex'] = X['Sex'].map({'male': 0, 'female': 1})  # Encode categorical feature\n"
     ]
    }
   ],
   "source": [
    "# Load the dataset\n",
    "titanic_data = pd.read_csv(\"Titanic.csv\")\n",
    "\n",
    "# Select relevant features and handle missing values\n",
    "features = ['Pclass', 'Sex', 'Age', 'SibSp', 'Parch', 'Fare']\n",
    "y = titanic_data['Survived']\n",
    "X = titanic_data[features]\n",
    "X['Sex'] = X['Sex'].map({'male': 0, 'female': 1})  # Encode categorical feature\n",
    "X = X.fillna(X.mean())  # Fill missing values with mean"
   ]
  },
  {
   "cell_type": "code",
   "execution_count": 5,
   "id": "72460a6c",
   "metadata": {},
   "outputs": [],
   "source": [
    "\n",
    "# Split data into training and testing sets\n",
    "X_train, X_test, y_train, y_test = train_test_split(X, y, test_size=0.2, random_state=42)\n",
    "\n",
    "# Scale features for SVM and logistic regression\n",
    "scaler = StandardScaler()\n",
    "X_train_scaled = scaler.fit_transform(X_train)\n",
    "X_test_scaled = scaler.transform(X_test)"
   ]
  },
  {
   "cell_type": "code",
   "execution_count": 6,
   "id": "d6d9779e",
   "metadata": {},
   "outputs": [],
   "source": [
    "# Create a LogisticRegression object\n",
    "log_reg = LogisticRegression()\n",
    "\n",
    "# Train the model using scaled features\n",
    "log_reg.fit(X_train_scaled, y_train)\n",
    "\n",
    "# Make predictions on the test set\n",
    "y_pred_logreg = log_reg.predict(X_test_scaled)"
   ]
  },
  {
   "cell_type": "code",
   "execution_count": 7,
   "id": "04a1d1fa",
   "metadata": {},
   "outputs": [
    {
     "name": "stdout",
     "output_type": "stream",
     "text": [
      "Logistic Regression Accuracy: 0.7988826815642458\n"
     ]
    }
   ],
   "source": [
    "# Evaluate model performance (e.g., using accuracy, precision, recall, F1-score)\n",
    "from sklearn.metrics import accuracy_score\n",
    "print(\"Logistic Regression Accuracy:\", accuracy_score(y_test, y_pred_logreg))"
   ]
  },
  {
   "cell_type": "code",
   "execution_count": 9,
   "id": "09e1ccc3",
   "metadata": {},
   "outputs": [],
   "source": [
    "svm = SVC(kernel='linear')  # Consider using 'rbf' or other kernels for non-linear data"
   ]
  },
  {
   "cell_type": "code",
   "execution_count": 10,
   "id": "1302e3de",
   "metadata": {},
   "outputs": [],
   "source": [
    "\n",
    "# Train the model using scaled features\n",
    "svm.fit(X_train_scaled, y_train)\n",
    "\n",
    "# Make predictions on the test set\n",
    "y_pred_svm = svm.predict(X_test_scaled)"
   ]
  },
  {
   "cell_type": "code",
   "execution_count": 12,
   "id": "a835491c",
   "metadata": {},
   "outputs": [
    {
     "name": "stdout",
     "output_type": "stream",
     "text": [
      "SVM Accuracy: 0.7821229050279329\n"
     ]
    }
   ],
   "source": [
    "# Evaluate model performance\n",
    "print(\"SVM Accuracy:\", accuracy_score(y_test, y_pred_svm))"
   ]
  },
  {
   "cell_type": "code",
   "execution_count": 13,
   "id": "4122dfa2",
   "metadata": {},
   "outputs": [],
   "source": [
    "dt = DecisionTreeClassifier(max_depth=3)\n",
    "\n",
    "# Train the model using unscaled features\n",
    "dt.fit(X_train, y_train)  # Decision trees don't require feature scaling\n",
    "\n",
    "# Make predictions on the test set\n",
    "y_pred_dt = dt.predict(X_test)\n"
   ]
  },
  {
   "cell_type": "code",
   "execution_count": 14,
   "id": "2bc5a432",
   "metadata": {},
   "outputs": [
    {
     "name": "stdout",
     "output_type": "stream",
     "text": [
      "Decision Tree Accuracy: 0.7988826815642458\n"
     ]
    }
   ],
   "source": [
    "y_pred_dt = dt.predict(X_test)\n",
    "\n",
    "# Evaluate model performance\n",
    "print(\"Decision Tree Accuracy:\", accuracy_score(y_test, y_pred_dt))"
   ]
  },
  {
   "cell_type": "code",
   "execution_count": 15,
   "id": "b80925df",
   "metadata": {},
   "outputs": [
    {
     "name": "stdout",
     "output_type": "stream",
     "text": [
      "Best model: Logistic Regression\n"
     ]
    }
   ],
   "source": [
    "best_accuracy = max(accuracy_score(y_test, y_pred_logreg), accuracy_score(y_test, y_pred_svm), accuracy_score(y_test, y_pred_dt))\n",
    "best_model = \"Logistic Regression\" if best_accuracy == accuracy_score(y_test, y_pred_logreg) else \"SVM\" if best_accuracy == accuracy_score(y_test, y_pred_svm) else \"Decision Tree\"\n",
    "print(\"Best model:\", best_model)"
   ]
  },
  {
   "cell_type": "code",
   "execution_count": null,
   "id": "ab3cce07",
   "metadata": {},
   "outputs": [],
   "source": []
  }
 ],
 "metadata": {
  "kernelspec": {
   "display_name": "Python 3 (ipykernel)",
   "language": "python",
   "name": "python3"
  },
  "language_info": {
   "codemirror_mode": {
    "name": "ipython",
    "version": 3
   },
   "file_extension": ".py",
   "mimetype": "text/x-python",
   "name": "python",
   "nbconvert_exporter": "python",
   "pygments_lexer": "ipython3",
   "version": "3.11.5"
  }
 },
 "nbformat": 4,
 "nbformat_minor": 5
}
